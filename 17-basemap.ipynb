{
 "cells": [
  {
   "cell_type": "markdown",
   "id": "apart-rainbow",
   "metadata": {},
   "source": [
    "# Couldn't install from source https://matplotlib.org/basemap/users/installing.html\n",
    "# Refuse to install from conda haha\n",
    "# Skipping this section..."
   ]
  }
 ],
 "metadata": {
  "kernelspec": {
   "display_name": "Python 3",
   "language": "python",
   "name": "python3"
  },
  "language_info": {
   "codemirror_mode": {
    "name": "ipython",
    "version": 3
   },
   "file_extension": ".py",
   "mimetype": "text/x-python",
   "name": "python",
   "nbconvert_exporter": "python",
   "pygments_lexer": "ipython3",
   "version": "3.8.6"
  }
 },
 "nbformat": 4,
 "nbformat_minor": 5
}
